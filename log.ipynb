{
 "cells": [
  {
   "cell_type": "code",
   "execution_count": 1,
   "id": "96d72ea3",
   "metadata": {},
   "outputs": [
    {
     "data": {
      "text/plain": [
       "'Логирование обучения.'"
      ]
     },
     "execution_count": 1,
     "metadata": {},
     "output_type": "execute_result"
    }
   ],
   "source": [
    "\"\"\"Логирование обучения.\"\"\""
   ]
  },
  {
   "cell_type": "markdown",
   "id": "00e8c6f5",
   "metadata": {},
   "source": [
    "03.10.25\n",
    "\n",
    "1. Продолжаем проходить вступление.\n"
   ]
  }
 ],
 "metadata": {
  "kernelspec": {
   "display_name": "base",
   "language": "python",
   "name": "python3"
  },
  "language_info": {
   "codemirror_mode": {
    "name": "ipython",
    "version": 3
   },
   "file_extension": ".py",
   "mimetype": "text/x-python",
   "name": "python",
   "nbconvert_exporter": "python",
   "pygments_lexer": "ipython3",
   "version": "3.13.5"
  }
 },
 "nbformat": 4,
 "nbformat_minor": 5
}
