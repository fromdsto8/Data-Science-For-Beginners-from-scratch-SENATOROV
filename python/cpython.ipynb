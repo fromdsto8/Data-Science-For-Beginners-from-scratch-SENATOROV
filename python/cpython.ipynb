{
 "cells": [
  {
   "cell_type": "code",
   "execution_count": 1,
   "id": "eef314d3",
   "metadata": {},
   "outputs": [
    {
     "data": {
      "text/plain": [
       "' CPython and Python.'"
      ]
     },
     "execution_count": 1,
     "metadata": {},
     "output_type": "execute_result"
    }
   ],
   "source": [
    "\"\"\"CPython and Python.\"\"\""
   ]
  },
  {
   "cell_type": "markdown",
   "id": "fcb5453f",
   "metadata": {},
   "source": [
    "1.  Что такое CPython и чем он отличается от Python?\n",
    "    CPython - это одна из реализаций языка программирования Python, написана на языке С, является интерпретатором\n",
    "3.  Сколько существует реализаций Python, и какая из них самая популярная?\n",
    "    6, CPython\n",
    "4.  На каком языке написан CPython?\n",
    "    на языке С\n",
    "\n",
    "5.  Кто создал CPython?\n",
    "    Guido van Rossum\n",
    "6.  Почему Python считается быстрым, несмотря на то, что это интерпретируемый язык?\n",
    "    Потому что в реализации CPython написана на языке программирования С и вызывает инструкции из С\n",
    "7.  Напишите путь к Интерпретатору CPython на вашем компьютере\n",
    "    /opt/miniconda3/bin/python\n",
    "\n",
    "8.  Что содержится в папке include в CPython?\n",
    "    файлы С (.h)\n",
    "9.  Где можно найти исходный код CPython дайте ссылку на репозиторий гитхаб\n",
    "    https://github.com/python/cpython\n",
    "10. Как работает интерпретатор CPython при выполнении кода?\n",
    "    CPython сначала читает текст программы и превращает его в абстрактное синтаксическое дерево.\n",
    "    Которое компилируется в байт-код — последовательность инструкций для виртуальной машины.\n",
    "    Виртуальная машина пошагово читает каждую инструкцию и выполняет её через написанные на C функции.\n",
    "    Когда весь байт-код выполнен, программа завершается.\n",
    "\n",
    "11. Какая команда используется для запуска файла с помощью CPython?\n",
    "    Запуск файла через CPython — это обычный запуск Python-программы; \n",
    "    В Windows файл с расширением .exe - исполняемая программа интерпретатора\n",
    "    В терминале можно ввести путь до интерпретатора, пробел и путь до файла\n",
    "12. Можно ли запускать текстовые файлы через интерпретатор Python? Почему?\n",
    "    Да, потому что интерпретатору неважно какое расширение файлов.\n",
    "13. Как указать путь к интерпретатору и файлу для выполнения кода?\n",
    "    Чтобы указать путь к интерпретатору нажимаем на файл .exe правой кнопкой мыши, выбираем Properties в открывшемся окне рядом с Location будет указан путь, также делаем при выборе пути для нужного файла\n",
    "\n",
    "14. Чем PyPy отличается от CPython?\n",
    "    PyPy работает в 10 раз быстрее чем CPython, но он еще не совместим со всеми проектами на питоне\n",
    "15. Почему PyPy не может использоваться для всех проектов на Python?\n",
    "    Этот интерпретатор реализован в RPython который представляет собой ограниченное статически типизированное подмножество языка программирования python\n",
    "16. Где можно скачать PyPy?\n",
    "    На сайте https://pypy.org\n",
    "\n",
    "17. Как установить PyPy после скачивания?\n",
    "    Распаковать архив, перейди в папку PyPy, запустить интерпретатор \n",
    "18. Как запустить файл с помощью PyPy?\n",
    "    Скопировать путь до интерпретатора PyPy (можно выбрать любой файл .exe);\n",
    "    В терминале вставить путь до интерпретатора, пробел и путь до файла\n",
    "19. Почему PyPy выполняет код быстрее, чем CPython?\n",
    "    PyPy использует JIT-компилятор,который компилирует часто выполняемый код в машинный, а CPython работает как чистый интерпретатор байт-кода.\n",
    "\n",
    "\n",
    "ПРАКТИЧЕСКИЕ ЗАДАНИЯ\n",
    " \n",
    "1) Поиск и установка CPython\n",
    "    py --version\n",
    "    Python 3.13.7\n",
    "\n",
    "2) Исследование структуры CPython\n",
    "    Users\\ASUS\\AppData\\Local\\Programs\\Python\\Python313\\\n",
    "    264 файла на С\n",
    "\n",
    "3) Запуск файла с помощью CPython\n",
    "   C:\\Users\\ASUS>C:\\Users\\ASUS\\AppData\\Local\\Programs\\Python\\Python313\\python.exe C:\\Users\\ASUS\\Desktop\\example.txt Hello from CPython!\n",
    "   \n",
    "   C:\\Users\\ASUS\\AppData\\Local\\Programs\\Python\\Python313\\python.exe \n",
    "   C:\\Users\\ASUS\\Desktop\\example.py Hello from CPython!\n",
    "\n",
    "4) Установка и использование PyPy\n",
    "    Вывод одинаковый, что с txt, что c py\n",
    "\n",
    "5) Сравнение производительности CPython и PyPy\n",
    "    C:\\Users\\ASUS\\AppData\\Local\\Programs\\Python\\Python313\\python.exe C:\\Users\\ASUS\\Desktop\\performance_test.py\n",
    "Result: 49999995000000\n",
    "Execution time: 1.1929292678833008 seconds\n",
    "    C:\\Users\\ASUS\\AppData\\Local\\pypy3.11-v7.3.20-win64\\pypy3.11.exe C:\\Users\\ASUS\\Desktop\\performance_test.py\n",
    "Result: 49999995000000\n",
    "Execution time: 0.012991905212402344 seconds\n",
    "\n",
    "Результаты: запуск кода через PyPy практически в 92 раз быстрее, чем через CPython"
   ]
  }
 ],
 "metadata": {
  "kernelspec": {
   "display_name": "base",
   "language": "python",
   "name": "python3"
  },
  "language_info": {
   "codemirror_mode": {
    "name": "ipython",
    "version": 3
   },
   "file_extension": ".py",
   "mimetype": "text/x-python",
   "name": "python",
   "nbconvert_exporter": "python",
   "pygments_lexer": "ipython3",
   "version": "3.13.5"
  }
 },
 "nbformat": 4,
 "nbformat_minor": 5
}
